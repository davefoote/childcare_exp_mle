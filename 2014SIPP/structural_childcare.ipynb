{
 "cells": [
  {
   "cell_type": "markdown",
   "metadata": {},
   "source": [
    "# The Structural Relationship of Childcare Expenses and Workforce Attachment\n",
    "## Jesús Pacheco & Dave Foote"
   ]
  },
  {
   "cell_type": "code",
   "execution_count": 3,
   "metadata": {},
   "outputs": [],
   "source": [
    "#imports\n",
    "import numpy as np\n",
    "import pandas as pd\n",
    "import scipy.stats as sts\n",
    "import math\n",
    "from matplotlib import pyplot as plt\n",
    "import requests\n",
    "import scipy.optimize as opt\n",
    "from statsmodels.discrete.discrete_model import Probit\n",
    "import statsmodels.api as sm\n",
    "import structural_childcare as sc\n",
    "%matplotlib inline\n",
    "%load_ext autoreload\n",
    "%autoreload 2"
   ]
  },
  {
   "cell_type": "code",
   "execution_count": 9,
   "metadata": {},
   "outputs": [
    {
     "data": {
      "text/plain": [
       "0    1\n",
       "1    1\n",
       "2    1\n",
       "3    1\n",
       "4    1\n",
       "Name: intercept, dtype: int64"
      ]
     },
     "execution_count": 9,
     "metadata": {},
     "output_type": "execute_result"
    }
   ],
   "source": [
    "#read data\n",
    "df = pd.read_csv('../rdf_subset.csv')\n",
    "df['intercept'] = 1\n",
    "df.intercept.head()"
   ]
  },
  {
   "cell_type": "code",
   "execution_count": 108,
   "metadata": {},
   "outputs": [],
   "source": [
    "#our functions:\n",
    "def mle_beta_vec(df, xcols, init_guess, target_col, f):\n",
    "    '''\n",
    "    df = dataframe\n",
    "    xcolumn names in list form\n",
    "    init_guess in tuple form\n",
    "    criterion function f\n",
    "    doin the damn thing (write better comment later)\n",
    "    '''\n",
    "    x_mat = extract_x_matrix(df, xcols)\n",
    "    y_vec = df[target_col]\n",
    "    \n",
    "    results_uncstr = opt.minimize(f, init_guess, method = 'L-BFGS-B', args=(x_mat, y_vec))\n",
    "\n",
    "    return results_uncstr\n",
    "\n",
    "def criterion(beta_guess, *args):\n",
    "    '''\n",
    "    beta_guess comes in as array\n",
    "    '''\n",
    "    x_mat, y_vec = args\n",
    "    \n",
    "    \n",
    "    \n",
    "    return logit_neglog_likelihood(beta_guess, y_vec, x_mat, prob_1)\n",
    "\n",
    "def logit_neglog_likelihood(beta_vec, *args):\n",
    "    '''\n",
    "    calculate the log likelihood that the probability is correct\n",
    "    '''\n",
    "    y_vec, xm, probability_now = args\n",
    "    p = list(probability_now(xm, beta_vec))\n",
    "    y_vec = list(y_vec)\n",
    "    rv = []\n",
    "    for i, x in enumerate(p):\n",
    "        to_add = ((y_vec[i] * math.log(x))) + ((1 - y_vec[i]) * math.log(1 - x))\n",
    "        if to_add is not np.nan:\n",
    "            rv.append(to_add)\n",
    "    rv = pd.Series(rv)\n",
    "\n",
    "    return -(rv.sum())\n",
    "\n",
    "def prob_1(x_matrix, beta_vec):\n",
    "    '''\n",
    "    calculate probability a set of observations is a member of d1, using logit\n",
    "    classification\n",
    "    '''\n",
    "    linear_kernel = x_matrix.dot(beta_vec)\n",
    "    rv = np.exp(linear_kernel) / (1 + np.exp(linear_kernel))\n",
    "    rv[rv == 1] = .999999\n",
    "\n",
    "    return rv\n",
    "\n",
    "def categorical_split(df):\n",
    "    cond1 = (df['monthly_childcare_expenditure'] == 0)\n",
    "    cond2 = (df['monthly_childcare_expenditure'] > 0)\n",
    "    cond3 = (df['monthly_wage'] > 0)\n",
    "    cond4 = (df['monthly_wage'] == 0)\n",
    "\n",
    "    return df[cond1 & cond3], df[cond2 & cond3], df[cond4]\n",
    "\n",
    "def extract_x_matrix(df, xcols):\n",
    "    '''\n",
    "    inputs: df with data and column names of your x variables\n",
    "    output: n x k matrix of x data where n is #observations and k is\n",
    "    #of columns\n",
    "    '''\n",
    "    \n",
    "    return df[xcols].to_numpy()\n",
    "\n",
    "def categorize_ds(df):\n",
    "    '''\n",
    "    input: df with H and F calculated columns\n",
    "    output: same df with d1-4 columns denoting membership in groups d1, d2,\n",
    "    d3, and d4 defined as such:\n",
    "    d1 - H = 0, F = 0\n",
    "    d2 - H = 0, F = 1\n",
    "    d3 - H = 1, F = 0\n",
    "    d4 - H = 1, F = 1\n",
    "    '''\n",
    "\n",
    "    df['d1'] = [1 if (r['H'] == 0) & (r['F'] == 0) else 0 for i, r in df.iterrows()]\n",
    "    df['d2'] = [1 if (r['H'] == 0) & (r['F'] == 1) else 0 for i, r in df.iterrows()]\n",
    "    df['d3'] = [1 if (r['H'] == 1) & (r['F'] == 0) else 0 for i, r in df.iterrows()]\n",
    "    df['d4'] = [1 if (r['H'] == 1) & (r['F'] == 1) else 0 for i, r in df.iterrows()]"
   ]
  },
  {
   "cell_type": "code",
   "execution_count": 109,
   "metadata": {},
   "outputs": [],
   "source": [
    "categorize_ds(df)"
   ]
  },
  {
   "cell_type": "code",
   "execution_count": 110,
   "metadata": {},
   "outputs": [],
   "source": [
    "results1 = mle_beta_vec(df, ['intercept', 'k_under2'], (0, .1), 'd1', criterion)"
   ]
  },
  {
   "cell_type": "code",
   "execution_count": 111,
   "metadata": {},
   "outputs": [
    {
     "data": {
      "text/plain": [
       "      fun: 3940.769926996391\n",
       " hess_inv: <2x2 LbfgsInvHessProduct with dtype=float64>\n",
       "      jac: array([-4.54747351e-05,  4.54747351e-05])\n",
       "  message: b'CONVERGENCE: REL_REDUCTION_OF_F_<=_FACTR*EPSMCH'\n",
       "     nfev: 21\n",
       "      nit: 5\n",
       "   status: 0\n",
       "  success: True\n",
       "        x: array([-0.5548937 ,  0.49808676])"
      ]
     },
     "execution_count": 111,
     "metadata": {},
     "output_type": "execute_result"
    }
   ],
   "source": [
    "results1"
   ]
  },
  {
   "cell_type": "code",
   "execution_count": 112,
   "metadata": {},
   "outputs": [],
   "source": [
    "results2 = mle_beta_vec(df, ['intercept', 'k_under2'], (0, .1), 'd2', criterion)"
   ]
  },
  {
   "cell_type": "code",
   "execution_count": 113,
   "metadata": {},
   "outputs": [
    {
     "data": {
      "text/plain": [
       "      fun: 1696.2057330776115\n",
       " hess_inv: <2x2 LbfgsInvHessProduct with dtype=float64>\n",
       "      jac: array([-6.82121026e-05,  2.27373675e-05])\n",
       "  message: b'CONVERGENCE: REL_REDUCTION_OF_F_<=_FACTR*EPSMCH'\n",
       "     nfev: 33\n",
       "      nit: 10\n",
       "   status: 0\n",
       "  success: True\n",
       "        x: array([-2.39043974, -0.01763054])"
      ]
     },
     "execution_count": 113,
     "metadata": {},
     "output_type": "execute_result"
    }
   ],
   "source": [
    "results2"
   ]
  },
  {
   "cell_type": "code",
   "execution_count": 114,
   "metadata": {},
   "outputs": [],
   "source": [
    "results3 = mle_beta_vec(df, ['intercept', 'k_under2'], (0, .1), 'd3', criterion)"
   ]
  },
  {
   "cell_type": "code",
   "execution_count": 115,
   "metadata": {},
   "outputs": [
    {
     "data": {
      "text/plain": [
       "      fun: 3467.361392719559\n",
       " hess_inv: <2x2 LbfgsInvHessProduct with dtype=float64>\n",
       "      jac: array([ 0.00113687, -0.00022737])\n",
       "  message: b'CONVERGENCE: REL_REDUCTION_OF_F_<=_FACTR*EPSMCH'\n",
       "     nfev: 24\n",
       "      nit: 7\n",
       "   status: 0\n",
       "  success: True\n",
       "        x: array([-0.78912389, -0.49949474])"
      ]
     },
     "execution_count": 115,
     "metadata": {},
     "output_type": "execute_result"
    }
   ],
   "source": [
    "results3"
   ]
  },
  {
   "cell_type": "code",
   "execution_count": 116,
   "metadata": {},
   "outputs": [],
   "source": [
    "results4 = mle_beta_vec(df, ['intercept', 'k_under2'], (0, .1), 'd4', criterion)"
   ]
  },
  {
   "cell_type": "code",
   "execution_count": 117,
   "metadata": {},
   "outputs": [
    {
     "data": {
      "text/plain": [
       "      fun: 3185.0444942783183\n",
       " hess_inv: <2x2 LbfgsInvHessProduct with dtype=float64>\n",
       "      jac: array([0.00022737, 0.00022737])\n",
       "  message: b'CONVERGENCE: REL_REDUCTION_OF_F_<=_FACTR*EPSMCH'\n",
       "     nfev: 27\n",
       "      nit: 8\n",
       "   status: 0\n",
       "  success: True\n",
       "        x: array([-1.15331466, -0.16083496])"
      ]
     },
     "execution_count": 117,
     "metadata": {},
     "output_type": "execute_result"
    }
   ],
   "source": [
    "results4"
   ]
  },
  {
   "cell_type": "code",
   "execution_count": null,
   "metadata": {},
   "outputs": [],
   "source": []
  },
  {
   "cell_type": "code",
   "execution_count": null,
   "metadata": {},
   "outputs": [],
   "source": []
  },
  {
   "cell_type": "code",
   "execution_count": 105,
   "metadata": {},
   "outputs": [],
   "source": []
  },
  {
   "cell_type": "code",
   "execution_count": null,
   "metadata": {},
   "outputs": [],
   "source": []
  }
 ],
 "metadata": {
  "kernelspec": {
   "display_name": "Python 3",
   "language": "python",
   "name": "python3"
  },
  "language_info": {
   "codemirror_mode": {
    "name": "ipython",
    "version": 3
   },
   "file_extension": ".py",
   "mimetype": "text/x-python",
   "name": "python",
   "nbconvert_exporter": "python",
   "pygments_lexer": "ipython3",
   "version": "3.7.3"
  }
 },
 "nbformat": 4,
 "nbformat_minor": 2
}
