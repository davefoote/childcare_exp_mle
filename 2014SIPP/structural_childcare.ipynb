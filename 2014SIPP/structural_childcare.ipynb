{
 "cells": [
  {
   "cell_type": "markdown",
   "metadata": {},
   "source": [
    "# The Structural Relationship of Childcare Expenses and Workforce Attachment\n",
    "## Jesús Pacheco & Dave Foote"
   ]
  },
  {
   "cell_type": "code",
   "execution_count": 4,
   "metadata": {},
   "outputs": [
    {
     "name": "stdout",
     "output_type": "stream",
     "text": [
      "The autoreload extension is already loaded. To reload it, use:\n",
      "  %reload_ext autoreload\n"
     ]
    }
   ],
   "source": [
    "#imports\n",
    "import numpy as np\n",
    "import pandas as pd\n",
    "import scipy.stats as sts\n",
    "import math\n",
    "from matplotlib import pyplot as plt\n",
    "import requests\n",
    "import scipy.optimize as opt\n",
    "from statsmodels.discrete.discrete_model import Probit\n",
    "import statsmodels.api as sm\n",
    "import structural_childcare as sc\n",
    "%matplotlib inline\n",
    "%load_ext autoreload\n",
    "%autoreload 2"
   ]
  },
  {
   "cell_type": "code",
   "execution_count": 5,
   "metadata": {},
   "outputs": [],
   "source": [
    "#read data\n",
    "df = pd.read_csv('../rdf_subset.csv')"
   ]
  },
  {
   "cell_type": "code",
   "execution_count": 6,
   "metadata": {},
   "outputs": [],
   "source": [
    "#trying to get a generalized probit function here\n",
    "def probit_criterion(df, x_cols1, x_cols2, y1, y2):\n",
    "    #set up two probit models\n",
    "    Y1 = df[y1]\n",
    "    Y2 = df[y2]\n",
    "    X1 = df[x_cols1]\n",
    "    X1 = sm.add_constant(X1)\n",
    "    X2 = df[x_cols2]\n",
    "    X2 = sm.add_constant(X2)\n",
    "    #initiate and fit these models\n",
    "    h_mod = Probit(Y1, X1)\n",
    "    f_mod = Probit(Y2, X2)\n",
    "    h_mod = h_mod.fit()\n",
    "    f_mod = f_mod.fit()\n",
    "    df['ones'] = 1\n",
    "    df['h_preds'] = h_mod.predict(exog=df[['ones','education']])\n",
    "    df['f_preds'] = f_mod.predict(exog=df[['ones', 'monthly_earned_income', 'H']])\n",
    "    df['p1'] = 1 - df['h_preds']\n",
    "    df['p2'] = df['h_preds'] * (1 - df['f_preds'])\n",
    "    df['p3'] = df['h_preds'] * df['f_preds']\n",
    "\n",
    "    return h_mod, f_mod\n",
    "    \n",
    "    \n",
    "    "
   ]
  },
  {
   "cell_type": "code",
   "execution_count": 7,
   "metadata": {},
   "outputs": [
    {
     "data": {
      "text/plain": [
       "Index(['Unnamed: 0', 'ssuid', 'monthly_childcare_expenditure', 'k_under2',\n",
       "       'k_3to5', 'k_6to10', 'METRO', 'reg_ratio', 'criminal_records',\n",
       "       'daycare_regulations', 'monthly_job_hrs', 'monthly_wage',\n",
       "       'monthly_earned_income', 'monthly_unearned_income', 'education', 'age',\n",
       "       'log_expenditure', 'H', 'F', 'd1', 'd2', 'd3'],\n",
       "      dtype='object')"
      ]
     },
     "execution_count": 7,
     "metadata": {},
     "output_type": "execute_result"
    }
   ],
   "source": [
    "df.columns"
   ]
  },
  {
   "cell_type": "code",
   "execution_count": 8,
   "metadata": {},
   "outputs": [
    {
     "name": "stdout",
     "output_type": "stream",
     "text": [
      "Optimization terminated successfully.\n",
      "         Current function value: 0.662148\n",
      "         Iterations 4\n",
      "Optimization terminated successfully.\n",
      "         Current function value: 0.568360\n",
      "         Iterations 5\n"
     ]
    },
    {
     "name": "stderr",
     "output_type": "stream",
     "text": [
      "/anaconda3/envs/earth-analytics-python/lib/python3.7/site-packages/numpy/core/fromnumeric.py:2495: FutureWarning: Method .ptp is deprecated and will be removed in a future version. Use numpy.ptp instead.\n",
      "  return ptp(axis=axis, out=out, **kwargs)\n"
     ]
    },
    {
     "data": {
      "text/html": [
       "<div>\n",
       "<style scoped>\n",
       "    .dataframe tbody tr th:only-of-type {\n",
       "        vertical-align: middle;\n",
       "    }\n",
       "\n",
       "    .dataframe tbody tr th {\n",
       "        vertical-align: top;\n",
       "    }\n",
       "\n",
       "    .dataframe thead th {\n",
       "        text-align: right;\n",
       "    }\n",
       "</style>\n",
       "<table border=\"1\" class=\"dataframe\">\n",
       "  <thead>\n",
       "    <tr style=\"text-align: right;\">\n",
       "      <th></th>\n",
       "      <th>Unnamed: 0</th>\n",
       "      <th>ssuid</th>\n",
       "      <th>monthly_childcare_expenditure</th>\n",
       "      <th>k_under2</th>\n",
       "      <th>k_3to5</th>\n",
       "      <th>k_6to10</th>\n",
       "      <th>METRO</th>\n",
       "      <th>reg_ratio</th>\n",
       "      <th>criminal_records</th>\n",
       "      <th>daycare_regulations</th>\n",
       "      <th>...</th>\n",
       "      <th>F</th>\n",
       "      <th>d1</th>\n",
       "      <th>d2</th>\n",
       "      <th>d3</th>\n",
       "      <th>ones</th>\n",
       "      <th>h_preds</th>\n",
       "      <th>f_preds</th>\n",
       "      <th>p1</th>\n",
       "      <th>p2</th>\n",
       "      <th>p3</th>\n",
       "    </tr>\n",
       "  </thead>\n",
       "  <tbody>\n",
       "    <tr>\n",
       "      <th>0</th>\n",
       "      <td>1</td>\n",
       "      <td>114285765</td>\n",
       "      <td>0.0</td>\n",
       "      <td>0.0</td>\n",
       "      <td>1.0</td>\n",
       "      <td>0.0</td>\n",
       "      <td>1.0</td>\n",
       "      <td>7.0</td>\n",
       "      <td>1.0</td>\n",
       "      <td>1.0</td>\n",
       "      <td>...</td>\n",
       "      <td>0</td>\n",
       "      <td>1</td>\n",
       "      <td>0</td>\n",
       "      <td>0</td>\n",
       "      <td>1</td>\n",
       "      <td>0.460013</td>\n",
       "      <td>0.165983</td>\n",
       "      <td>0.539987</td>\n",
       "      <td>0.383658</td>\n",
       "      <td>0.076354</td>\n",
       "    </tr>\n",
       "    <tr>\n",
       "      <th>1</th>\n",
       "      <td>2</td>\n",
       "      <td>114552343</td>\n",
       "      <td>0.0</td>\n",
       "      <td>0.0</td>\n",
       "      <td>1.0</td>\n",
       "      <td>2.0</td>\n",
       "      <td>1.0</td>\n",
       "      <td>7.0</td>\n",
       "      <td>1.0</td>\n",
       "      <td>1.0</td>\n",
       "      <td>...</td>\n",
       "      <td>0</td>\n",
       "      <td>0</td>\n",
       "      <td>1</td>\n",
       "      <td>0</td>\n",
       "      <td>1</td>\n",
       "      <td>0.196120</td>\n",
       "      <td>0.395028</td>\n",
       "      <td>0.803880</td>\n",
       "      <td>0.118647</td>\n",
       "      <td>0.077473</td>\n",
       "    </tr>\n",
       "    <tr>\n",
       "      <th>2</th>\n",
       "      <td>3</td>\n",
       "      <td>114552369</td>\n",
       "      <td>0.0</td>\n",
       "      <td>0.0</td>\n",
       "      <td>0.0</td>\n",
       "      <td>1.0</td>\n",
       "      <td>1.0</td>\n",
       "      <td>7.0</td>\n",
       "      <td>1.0</td>\n",
       "      <td>1.0</td>\n",
       "      <td>...</td>\n",
       "      <td>0</td>\n",
       "      <td>0</td>\n",
       "      <td>1</td>\n",
       "      <td>0</td>\n",
       "      <td>1</td>\n",
       "      <td>0.629722</td>\n",
       "      <td>0.419015</td>\n",
       "      <td>0.370278</td>\n",
       "      <td>0.365860</td>\n",
       "      <td>0.263863</td>\n",
       "    </tr>\n",
       "    <tr>\n",
       "      <th>3</th>\n",
       "      <td>4</td>\n",
       "      <td>418037420</td>\n",
       "      <td>0.0</td>\n",
       "      <td>1.0</td>\n",
       "      <td>2.0</td>\n",
       "      <td>0.0</td>\n",
       "      <td>1.0</td>\n",
       "      <td>7.0</td>\n",
       "      <td>1.0</td>\n",
       "      <td>1.0</td>\n",
       "      <td>...</td>\n",
       "      <td>0</td>\n",
       "      <td>1</td>\n",
       "      <td>0</td>\n",
       "      <td>0</td>\n",
       "      <td>1</td>\n",
       "      <td>0.629722</td>\n",
       "      <td>0.165983</td>\n",
       "      <td>0.370278</td>\n",
       "      <td>0.525199</td>\n",
       "      <td>0.104523</td>\n",
       "    </tr>\n",
       "    <tr>\n",
       "      <th>4</th>\n",
       "      <td>5</td>\n",
       "      <td>418086894</td>\n",
       "      <td>0.0</td>\n",
       "      <td>0.0</td>\n",
       "      <td>0.0</td>\n",
       "      <td>2.0</td>\n",
       "      <td>0.0</td>\n",
       "      <td>8.0</td>\n",
       "      <td>1.0</td>\n",
       "      <td>1.0</td>\n",
       "      <td>...</td>\n",
       "      <td>0</td>\n",
       "      <td>0</td>\n",
       "      <td>1</td>\n",
       "      <td>0</td>\n",
       "      <td>1</td>\n",
       "      <td>0.460013</td>\n",
       "      <td>0.393780</td>\n",
       "      <td>0.539987</td>\n",
       "      <td>0.278869</td>\n",
       "      <td>0.181144</td>\n",
       "    </tr>\n",
       "  </tbody>\n",
       "</table>\n",
       "<p>5 rows × 28 columns</p>\n",
       "</div>"
      ],
      "text/plain": [
       "   Unnamed: 0      ssuid  monthly_childcare_expenditure  k_under2  k_3to5  \\\n",
       "0           1  114285765                            0.0       0.0     1.0   \n",
       "1           2  114552343                            0.0       0.0     1.0   \n",
       "2           3  114552369                            0.0       0.0     0.0   \n",
       "3           4  418037420                            0.0       1.0     2.0   \n",
       "4           5  418086894                            0.0       0.0     0.0   \n",
       "\n",
       "   k_6to10  METRO  reg_ratio  criminal_records  daycare_regulations  ...  F  \\\n",
       "0      0.0    1.0        7.0               1.0                  1.0  ...  0   \n",
       "1      2.0    1.0        7.0               1.0                  1.0  ...  0   \n",
       "2      1.0    1.0        7.0               1.0                  1.0  ...  0   \n",
       "3      0.0    1.0        7.0               1.0                  1.0  ...  0   \n",
       "4      2.0    0.0        8.0               1.0                  1.0  ...  0   \n",
       "\n",
       "   d1  d2  d3  ones   h_preds   f_preds        p1        p2        p3  \n",
       "0   1   0   0     1  0.460013  0.165983  0.539987  0.383658  0.076354  \n",
       "1   0   1   0     1  0.196120  0.395028  0.803880  0.118647  0.077473  \n",
       "2   0   1   0     1  0.629722  0.419015  0.370278  0.365860  0.263863  \n",
       "3   1   0   0     1  0.629722  0.165983  0.370278  0.525199  0.104523  \n",
       "4   0   1   0     1  0.460013  0.393780  0.539987  0.278869  0.181144  \n",
       "\n",
       "[5 rows x 28 columns]"
      ]
     },
     "execution_count": 8,
     "metadata": {},
     "output_type": "execute_result"
    }
   ],
   "source": [
    "probit_criterion(df, 'education', ['monthly_earned_income', 'H'], 'H', 'F')\n",
    "df.head()"
   ]
  },
  {
   "cell_type": "code",
   "execution_count": 9,
   "metadata": {},
   "outputs": [],
   "source": [
    "def rowwise_likelihood(d1, d2, d3, p1, p2, p3):\n",
    "    return (d1*p1) + (d2*p2) + (d3*p3)"
   ]
  },
  {
   "cell_type": "code",
   "execution_count": 10,
   "metadata": {},
   "outputs": [],
   "source": [
    "df['likelihood'] = [rowwise_likelihood(r.d1, r.d2, r.d3, r.p1, r.p2, r.p3) for i, r in df.iterrows()]"
   ]
  },
  {
   "cell_type": "code",
   "execution_count": 11,
   "metadata": {},
   "outputs": [
    {
     "data": {
      "text/plain": [
       "7.61437060658871"
      ]
     },
     "execution_count": 11,
     "metadata": {},
     "output_type": "execute_result"
    }
   ],
   "source": [
    "np.log(df.likelihood.sum())"
   ]
  },
  {
   "cell_type": "code",
   "execution_count": 12,
   "metadata": {},
   "outputs": [
    {
     "data": {
      "text/plain": [
       "<matplotlib.axes._subplots.AxesSubplot at 0x1107003c8>"
      ]
     },
     "execution_count": 12,
     "metadata": {},
     "output_type": "execute_result"
    },
    {
     "data": {
      "image/png": "[encoded data removed]",
      "text/plain": [
       "<Figure size 432x288 with 1 Axes>"
      ]
     },
     "metadata": {
      "needs_background": "light"
     },
     "output_type": "display_data"
    }
   ],
   "source": [
    "df.p1.hist(bins=25)"
   ]
  },
  {
   "cell_type": "code",
   "execution_count": 13,
   "metadata": {},
   "outputs": [
    {
     "data": {
      "text/plain": [
       "<matplotlib.axes._subplots.AxesSubplot at 0x123333208>"
      ]
     },
     "execution_count": 13,
     "metadata": {},
     "output_type": "execute_result"
    },
    {
     "data": {
      "image/png": "[encoded data removed]",
      "text/plain": [
       "<Figure size 432x288 with 1 Axes>"
      ]
     },
     "metadata": {
      "needs_background": "light"
     },
     "output_type": "display_data"
    }
   ],
   "source": [
    "df.p2.hist(bins=25)"
   ]
  },
  {
   "cell_type": "code",
   "execution_count": 14,
   "metadata": {},
   "outputs": [
    {
     "data": {
      "text/plain": [
       "<matplotlib.axes._subplots.AxesSubplot at 0x1233ee2e8>"
      ]
     },
     "execution_count": 14,
     "metadata": {},
     "output_type": "execute_result"
    },
    {
     "data": {
      "image/png": "[encoded data removed]",
      "text/plain": [
       "<Figure size 432x288 with 1 Axes>"
      ]
     },
     "metadata": {
      "needs_background": "light"
     },
     "output_type": "display_data"
    }
   ],
   "source": [
    "df.p3.hist(bins=25)"
   ]
  },
  {
   "cell_type": "code",
   "execution_count": 15,
   "metadata": {},
   "outputs": [
    {
     "data": {
      "text/plain": [
       "Index(['Unnamed: 0', 'ssuid', 'monthly_childcare_expenditure', 'k_under2',\n",
       "       'k_3to5', 'k_6to10', 'METRO', 'reg_ratio', 'criminal_records',\n",
       "       'daycare_regulations', 'monthly_job_hrs', 'monthly_wage',\n",
       "       'monthly_earned_income', 'monthly_unearned_income', 'education', 'age',\n",
       "       'log_expenditure', 'H', 'F', 'd1', 'd2', 'd3', 'ones', 'h_preds',\n",
       "       'f_preds', 'p1', 'p2', 'p3', 'likelihood'],\n",
       "      dtype='object')"
      ]
     },
     "execution_count": 15,
     "metadata": {},
     "output_type": "execute_result"
    }
   ],
   "source": [
    "df.columns"
   ]
  },
  {
   "cell_type": "code",
   "execution_count": 16,
   "metadata": {},
   "outputs": [],
   "source": [
    "d1, d2, d3 = sc.categorical_split(df)"
   ]
  },
  {
   "cell_type": "code",
   "execution_count": 23,
   "metadata": {},
   "outputs": [
    {
     "data": {
      "text/plain": [
       "Unnamed: 0                       2.932533e+03\n",
       "ssuid                            5.534800e+11\n",
       "monthly_childcare_expenditure    0.000000e+00\n",
       "k_under2                         3.061119e-01\n",
       "k_3to5                           3.658211e-01\n",
       "k_6to10                          8.368936e-01\n",
       "METRO                            7.793354e-01\n",
       "reg_ratio                        8.392804e+00\n",
       "criminal_records                 1.040684e+00\n",
       "daycare_regulations              1.171006e+00\n",
       "monthly_job_hrs                  3.020974e+01\n",
       "monthly_wage                     2.263598e+03\n",
       "monthly_earned_income            2.403590e+03\n",
       "monthly_unearned_income         -2.200008e+03\n",
       "education                        1.322007e+01\n",
       "age                              3.341108e+01\n",
       "log_expenditure                  0.000000e+00\n",
       "H                                7.174010e-01\n",
       "F                                0.000000e+00\n",
       "d1                               2.825990e-01\n",
       "d2                               7.174010e-01\n",
       "d3                               0.000000e+00\n",
       "ones                             1.000000e+00\n",
       "h_preds                          5.123493e-01\n",
       "f_preds                          3.667589e-01\n",
       "p1                               4.876507e-01\n",
       "p2                               3.207035e-01\n",
       "p3                               1.916458e-01\n",
       "likelihood                       3.520431e-01\n",
       "dtype: float64"
      ]
     },
     "execution_count": 23,
     "metadata": {},
     "output_type": "execute_result"
    }
   ],
   "source": [
    "d1[['monthly_childcare_expenditure', 'k_under2', 'k_3to5', 'k_6to10', 'METRO', 'reg_ratio']].mean()"
   ]
  },
  {
   "cell_type": "code",
   "execution_count": null,
   "metadata": {},
   "outputs": [],
   "source": []
  }
 ],
 "metadata": {
  "kernelspec": {
   "display_name": "Python 3",
   "language": "python",
   "name": "python3"
  },
  "language_info": {
   "codemirror_mode": {
    "name": "ipython",
    "version": 3
   },
   "file_extension": ".py",
   "mimetype": "text/x-python",
   "name": "python",
   "nbconvert_exporter": "python",
   "pygments_lexer": "ipython3",
   "version": "3.7.3"
  }
 },
 "nbformat": 4,
 "nbformat_minor": 2
}
