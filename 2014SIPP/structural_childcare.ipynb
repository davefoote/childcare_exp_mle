{
 "cells": [
  {
   "cell_type": "markdown",
   "metadata": {},
   "source": [
    "# The Structural Relationship of Childcare Expenses and Workforce Attachment\n",
    "## Jesús Pacheco & Dave Foote"
   ]
  },
  {
   "cell_type": "code",
   "execution_count": 153,
   "metadata": {},
   "outputs": [
    {
     "name": "stdout",
     "output_type": "stream",
     "text": [
      "The autoreload extension is already loaded. To reload it, use:\n",
      "  %reload_ext autoreload\n"
     ]
    }
   ],
   "source": [
    "#imports\n",
    "import numpy as np\n",
    "import pandas as pd\n",
    "import scipy.stats as sts\n",
    "import math\n",
    "from matplotlib import pyplot as plt\n",
    "import requests\n",
    "import scipy.optimize as opt\n",
    "from statsmodels.discrete.discrete_model import Probit\n",
    "import statsmodels.api as sm\n",
    "import structural_childcare as sc\n",
    "import seaborn as sns\n",
    "%matplotlib inline\n",
    "%load_ext autoreload\n",
    "%autoreload 2"
   ]
  },
  {
   "cell_type": "code",
   "execution_count": 165,
   "metadata": {},
   "outputs": [],
   "source": [
    "#read data\n",
    "df = pd.read_csv('../rdf_subset.csv')\n",
    "df['intercept'] = 1\n",
    "state_map = {1: 'Alabama', 2: 'Alaska', 4: 'Arizona', 5: 'Arkansas',\n",
    "            6: 'California', 8: 'Colorado', 9: 'Connecticut', 10: 'Delaware',\n",
    "            11: 'D.C.', 12: 'Florida', 13: 'Georgia', 15: 'Hawaii',\n",
    "            16: 'Idaho', 17: 'Illinois', 18: 'Indiana', 19: 'Iowa',\n",
    "            20: 'Kansas', 21: 'Kentucky', 22: 'Louisiana', 23: 'Maine',\n",
    "            24: 'Maryland', 25: 'Massachusetts', 26: 'Michigan',\n",
    "            27: 'Minnesota', 28: 'Mississippi', 29: 'Missouri', 30: 'Montana',\n",
    "            31: 'Nebraska', 32: 'Nevada', 33: 'New Hampshire',\n",
    "            34: 'New Jersey', 35: 'New Mexico', 36: 'New York',\n",
    "            37: 'North Carolina', 38: 'North Datoka', 39: 'Ohio',\n",
    "            40: 'Oklahoma', 41: 'Oregon', 42: 'Pennsylvania',\n",
    "            44: 'Rhode Island', 45: 'South Carolina', 46: 'South Dakota',\n",
    "            47: 'Tennessee', 48: 'Texas', 49: 'Utah', 50: 'Vermont',\n",
    "            51: 'Virginia', 53: 'Washington', 54: 'West Virginia',\n",
    "            55: 'Wisconsin', 56: 'Wyoming', 60: 'Puerto Rico and Island Areas',\n",
    "            61: 'Foreign Country'}\n",
    "bls_data = pd.read_csv('../bls_data.csv')"
   ]
  },
  {
   "cell_type": "code",
   "execution_count": 160,
   "metadata": {},
   "outputs": [
    {
     "data": {
      "text/html": [
       "<div>\n",
       "<style scoped>\n",
       "    .dataframe tbody tr th:only-of-type {\n",
       "        vertical-align: middle;\n",
       "    }\n",
       "\n",
       "    .dataframe tbody tr th {\n",
       "        vertical-align: top;\n",
       "    }\n",
       "\n",
       "    .dataframe thead th {\n",
       "        text-align: right;\n",
       "    }\n",
       "</style>\n",
       "<table border=\"1\" class=\"dataframe\">\n",
       "  <thead>\n",
       "    <tr style=\"text-align: right;\">\n",
       "      <th></th>\n",
       "      <th>State_number</th>\n",
       "      <th>STATE_CC_COST</th>\n",
       "      <th>STATE_MEDIAN_WAGE</th>\n",
       "    </tr>\n",
       "  </thead>\n",
       "  <tbody>\n",
       "    <tr>\n",
       "      <th>0</th>\n",
       "      <td>Alabama</td>\n",
       "      <td>9.02</td>\n",
       "      <td>16.22</td>\n",
       "    </tr>\n",
       "    <tr>\n",
       "      <th>1</th>\n",
       "      <td>Alaska</td>\n",
       "      <td>12.95</td>\n",
       "      <td>23.09</td>\n",
       "    </tr>\n",
       "    <tr>\n",
       "      <th>2</th>\n",
       "      <td>Arizona</td>\n",
       "      <td>11.51</td>\n",
       "      <td>17.80</td>\n",
       "    </tr>\n",
       "    <tr>\n",
       "      <th>3</th>\n",
       "      <td>Arkansas</td>\n",
       "      <td>9.44</td>\n",
       "      <td>15.31</td>\n",
       "    </tr>\n",
       "    <tr>\n",
       "      <th>4</th>\n",
       "      <td>California</td>\n",
       "      <td>12.67</td>\n",
       "      <td>20.40</td>\n",
       "    </tr>\n",
       "  </tbody>\n",
       "</table>\n",
       "</div>"
      ],
      "text/plain": [
       "  State_number  STATE_CC_COST  STATE_MEDIAN_WAGE\n",
       "0      Alabama           9.02              16.22\n",
       "1       Alaska          12.95              23.09\n",
       "2      Arizona          11.51              17.80\n",
       "3     Arkansas           9.44              15.31\n",
       "4   California          12.67              20.40"
      ]
     },
     "execution_count": 160,
     "metadata": {},
     "output_type": "execute_result"
    }
   ],
   "source": [
    "bls_data.State_number = bls_data.State_number.map(state_map)\n",
    "bls_data.head()"
   ]
  },
  {
   "cell_type": "code",
   "execution_count": 161,
   "metadata": {},
   "outputs": [],
   "source": [
    "state_cc_map = {}\n",
    "state_medwage_map = {}\n",
    "for i, r in bls_data.iterrows():\n",
    "    state_cc_map[r['State_number']] = r['STATE_CC_COST']\n",
    "    state_medwage_map[r['State_number']] = r['STATE_MEDIAN_WAGE']"
   ]
  },
  {
   "cell_type": "code",
   "execution_count": 168,
   "metadata": {},
   "outputs": [],
   "source": [
    "df['STATE'] = df.State_number.map(state_map)\n",
    "df['STATE_CC_COST'] = df.STATE.map(state_cc_map)\n",
    "df['STATE_MEDIAN_WAGE'] = df.STATE.map(state_medwage_map)"
   ]
  },
  {
   "cell_type": "code",
   "execution_count": 169,
   "metadata": {},
   "outputs": [],
   "source": [
    "#our functions:\n",
    "def mle_beta_vec(df, xcols, init_guess, target_col, f):\n",
    "    '''\n",
    "    df = dataframe\n",
    "    xcolumn names in list form\n",
    "    init_guess in tuple form\n",
    "    criterion function f\n",
    "    doin the damn thing (write better comment later)\n",
    "    '''\n",
    "    x_mat = extract_x_matrix(df, xcols)\n",
    "    y_vec = df[target_col]\n",
    "    \n",
    "    results_uncstr = opt.minimize(f, init_guess, method = 'L-BFGS-B', args=(x_mat, y_vec))\n",
    "    VCV = results_uncstr.hess_inv.todense()\n",
    "    error_info = get_st_error(xcols, VCV)\n",
    "\n",
    "    return results_uncstr, VCV\n",
    "\n",
    "def criterion(beta_guess, *args):\n",
    "    '''\n",
    "    beta_guess comes in as array\n",
    "    '''\n",
    "    x_mat, y_vec = args\n",
    "    \n",
    "    \n",
    "    \n",
    "    return logit_neglog_likelihood(beta_guess, y_vec, x_mat, prob_1)\n",
    "\n",
    "def logit_neglog_likelihood(beta_vec, *args):\n",
    "    '''\n",
    "    calculate the log likelihood that the probability is correct\n",
    "    '''\n",
    "    y_vec, xm, probability_now = args\n",
    "    p = list(probability_now(xm, beta_vec))\n",
    "    y_vec = list(y_vec)\n",
    "    rv = []\n",
    "    for i, x in enumerate(p):\n",
    "        to_add = ((y_vec[i] * math.log(x))) + ((1 - y_vec[i]) * math.log(1 - x))\n",
    "        if to_add is not np.nan:\n",
    "            rv.append(to_add)\n",
    "    rv = pd.Series(rv)\n",
    "\n",
    "    return -(rv.sum())\n",
    "\n",
    "def prob_1(x_matrix, beta_vec):\n",
    "    '''\n",
    "    calculate probability a set of observations is a member of d1, using logit\n",
    "    classification\n",
    "    '''\n",
    "    linear_kernel = x_matrix.dot(beta_vec)\n",
    "    rv = np.exp(linear_kernel) / (1 + np.exp(linear_kernel))\n",
    "    rv[rv == 1] = .999999\n",
    "\n",
    "    return rv\n",
    "\n",
    "def categorical_split(df):\n",
    "    cond1 = (df['monthly_childcare_expenditure'] == 0)\n",
    "    cond2 = (df['monthly_childcare_expenditure'] > 0)\n",
    "    cond3 = (df['monthly_wage'] > 0)\n",
    "    cond4 = (df['monthly_wage'] == 0)\n",
    "\n",
    "    return df[cond1 & cond3], df[cond2 & cond3], df[cond4]\n",
    "\n",
    "def extract_x_matrix(df, xcols):\n",
    "    '''\n",
    "    inputs: df with data and column names of your x variables\n",
    "    output: n x k matrix of x data where n is #observations and k is\n",
    "    #of columns\n",
    "    '''\n",
    "    \n",
    "    return df[xcols].to_numpy()\n",
    "\n",
    "def categorize_ds(df):\n",
    "    '''\n",
    "    input: df with H and F calculated columns\n",
    "    output: same df with d1-4 columns denoting membership in groups d1, d2,\n",
    "    d3, and d4 defined as such:\n",
    "    d1 - H = 0, F = 0\n",
    "    d2 - H = 0, F = 1\n",
    "    d3 - H = 1, F = 0\n",
    "    d4 - H = 1, F = 1\n",
    "    '''\n",
    "\n",
    "    df['d1'] = [1 if (r['H'] == 0) & (r['F'] == 0) else 0 for i, r in df.iterrows()]\n",
    "    df['d2'] = [1 if (r['H'] == 0) & (r['F'] == 1) else 0 for i, r in df.iterrows()]\n",
    "    df['d3'] = [1 if (r['H'] == 1) & (r['F'] == 0) else 0 for i, r in df.iterrows()]\n",
    "    df['d4'] = [1 if (r['H'] == 1) & (r['F'] == 1) else 0 for i, r in df.iterrows()]\n",
    "    \n",
    "def get_st_error(col_names, VCV):\n",
    "    '''\n",
    "    given the order of the regressors and the variance covariance matrix from \n",
    "    the minimization, this function will return a dictionary mapping variable names\n",
    "    to their standard erros, as well as print this information\n",
    "    '''\n",
    "    rd = {}\n",
    "    for i, x in enumerate(col_names):\n",
    "        rd[x] = np.sqrt(VCV[i, i])\n",
    "        print(\"error for {}: \".format(x), rd[x])\n",
    "\n",
    "    return rd"
   ]
  },
  {
   "cell_type": "markdown",
   "metadata": {},
   "source": [
    "# So begins our estimation...\n",
    "We use categorize_ds to estimate membership in our d groups such that:  \n",
    "    d1 - H = 0, F = 0  \n",
    "    d2 - H = 0, F = 1  \n",
    "    d3 - H = 1, F = 0  \n",
    "    d4 - H = 1, F = 1  "
   ]
  },
  {
   "cell_type": "code",
   "execution_count": 197,
   "metadata": {},
   "outputs": [],
   "source": [
    "categorize_ds(df)\n",
    "est_cols = ['intercept', 'k_under2', 'k_3to5', 'k_6to10', 'education', 'reg_ratio', 'monthly_job_hrs',\n",
    "           'STATE_CC_COST', 'STATE_MEDIAN_WAGE']\n",
    "generalized_guess = (.01, .1, .1, .1, .1, .1, .1, .1, .1)"
   ]
  },
  {
   "cell_type": "code",
   "execution_count": 198,
   "metadata": {},
   "outputs": [
    {
     "name": "stdout",
     "output_type": "stream",
     "text": [
      "error for intercept:  80.28692573152215\n",
      "error for k_under2:  1.9152815591507357\n",
      "error for k_3to5:  2.555581536331829\n",
      "error for k_6to10:  3.2577952995270665\n",
      "error for education:  1.4288566994676877\n",
      "error for reg_ratio:  1.931854902472556\n",
      "error for monthly_job_hrs:  0.1463121752719345\n",
      "error for STATE_CC_COST:  6.713039607013351\n",
      "error for STATE_MEDIAN_WAGE:  8.319020334058692\n"
     ]
    }
   ],
   "source": [
    "results1, errors1 = mle_beta_vec(df, est_cols, generalized_guess, 'd1', criterion)"
   ]
  },
  {
   "cell_type": "code",
   "execution_count": 205,
   "metadata": {},
   "outputs": [
    {
     "name": "stdout",
     "output_type": "stream",
     "text": [
      "Beta Estimate for intercept : 6.296983432211815\n",
      "Beta Estimate for k_under2 : 0.19065152212484593\n",
      "Beta Estimate for k_3to5 : -0.48147701984084973\n",
      "Beta Estimate for k_6to10 : -0.04330645883022377\n",
      "Beta Estimate for education : -0.13653292280938206\n",
      "Beta Estimate for reg_ratio : -0.04657905531443639\n",
      "Beta Estimate for monthly_job_hrs : -0.17519044147553386\n",
      "Beta Estimate for STATE_CC_COST : -0.06494735151879068\n",
      "Beta Estimate for STATE_MEDIAN_WAGE : -0.0501623010614608\n"
     ]
    }
   ],
   "source": [
    "for i, x in enumerate(est_cols):\n",
    "    print(\"Beta Estimate for {} :\".format(x), results1.x[i])"
   ]
  },
  {
   "cell_type": "code",
   "execution_count": 217,
   "metadata": {},
   "outputs": [
    {
     "name": "stdout",
     "output_type": "stream",
     "text": [
      "error for intercept:  139.77389747050785\n",
      "error for k_under2:  1.4539176249487862\n",
      "error for k_3to5:  9.748317291321994\n",
      "error for k_6to10:  0.7010744881384049\n",
      "error for education:  0.5391225827681608\n",
      "error for reg_ratio:  3.009276454838919\n",
      "error for monthly_job_hrs:  0.3403553321532873\n",
      "error for STATE_CC_COST:  1.2401137896095702\n",
      "error for STATE_MEDIAN_WAGE:  5.254072440196225\n"
     ]
    }
   ],
   "source": [
    "results2, errors2 = mle_beta_vec(df, est_cols, generalized_guess, 'd2', criterion)"
   ]
  },
  {
   "cell_type": "code",
   "execution_count": 218,
   "metadata": {},
   "outputs": [
    {
     "name": "stdout",
     "output_type": "stream",
     "text": [
      "Beta Estimate for intercept : -4.542446857889552\n",
      "Beta Estimate for k_under2 : -0.1928109193188857\n",
      "Beta Estimate for k_3to5 : 0.48592603434349346\n",
      "Beta Estimate for k_6to10 : -0.0019115098701744239\n",
      "Beta Estimate for education : 0.15843223713178867\n",
      "Beta Estimate for reg_ratio : -0.003315553287738873\n",
      "Beta Estimate for monthly_job_hrs : -0.06736902980717349\n",
      "Beta Estimate for STATE_CC_COST : -0.050841537355495715\n",
      "Beta Estimate for STATE_MEDIAN_WAGE : 0.0715931541712103\n"
     ]
    }
   ],
   "source": [
    "for i, x in enumerate(est_cols):\n",
    "    print(\"Beta Estimate for {} :\".format(x), results2.x[i])"
   ]
  },
  {
   "cell_type": "code",
   "execution_count": 212,
   "metadata": {},
   "outputs": [
    {
     "name": "stdout",
     "output_type": "stream",
     "text": [
      "error for intercept:  156.46097495926648\n",
      "error for k_under2:  1.61881581739398\n",
      "error for k_3to5:  7.026457758207519\n",
      "error for k_6to10:  16.464402793497946\n",
      "error for education:  1.6117547947096227\n",
      "error for reg_ratio:  3.4821158684363676\n",
      "error for monthly_job_hrs:  0.49835232341052094\n",
      "error for STATE_CC_COST:  14.912667629974251\n",
      "error for STATE_MEDIAN_WAGE:  14.459576182251583\n"
     ]
    }
   ],
   "source": [
    "results3, errors3 = mle_beta_vec(df, est_cols, generalized_guess, 'd3', criterion)"
   ]
  },
  {
   "cell_type": "code",
   "execution_count": 213,
   "metadata": {},
   "outputs": [
    {
     "name": "stdout",
     "output_type": "stream",
     "text": [
      "Beta Estimate for intercept : -1.587426811602224\n",
      "Beta Estimate for k_under2 : -0.31392746434599234\n",
      "Beta Estimate for k_3to5 : -0.5952046016950591\n",
      "Beta Estimate for k_6to10 : -0.06974517428571526\n",
      "Beta Estimate for education : -0.12752135451421814\n",
      "Beta Estimate for reg_ratio : 0.042966315115059564\n",
      "Beta Estimate for monthly_job_hrs : 0.09230266337850383\n",
      "Beta Estimate for STATE_CC_COST : 0.08970992527036241\n",
      "Beta Estimate for STATE_MEDIAN_WAGE : -0.060299539042612836\n"
     ]
    }
   ],
   "source": [
    "for i, x in enumerate(est_cols):\n",
    "    print(\"Beta Estimate for {} :\".format(x), results3.x[i])"
   ]
  },
  {
   "cell_type": "code",
   "execution_count": 214,
   "metadata": {},
   "outputs": [
    {
     "name": "stdout",
     "output_type": "stream",
     "text": [
      "error for intercept:  48.845604894259104\n",
      "error for k_under2:  1.9150137844992612\n",
      "error for k_3to5:  13.157289919206944\n",
      "error for k_6to10:  30.769417875204983\n",
      "error for education:  0.9068652579251544\n",
      "error for reg_ratio:  2.7996872749041777\n",
      "error for monthly_job_hrs:  0.99698817120794\n",
      "error for STATE_CC_COST:  1.9279411346972497\n",
      "error for STATE_MEDIAN_WAGE:  4.6074361055495485\n"
     ]
    }
   ],
   "source": [
    "results4, errors4 = mle_beta_vec(df, est_cols, generalized_guess, 'd4', criterion)"
   ]
  },
  {
   "cell_type": "code",
   "execution_count": 216,
   "metadata": {},
   "outputs": [
    {
     "name": "stdout",
     "output_type": "stream",
     "text": [
      "Beta Estimate for intercept : -5.400230223795957\n",
      "Beta Estimate for k_under2 : 0.2123688970465438\n",
      "Beta Estimate for k_3to5 : 0.537558936335661\n",
      "Beta Estimate for k_6to10 : -0.08754387099418527\n",
      "Beta Estimate for education : 0.09515374557344712\n",
      "Beta Estimate for reg_ratio : -0.023384360508957182\n",
      "Beta Estimate for monthly_job_hrs : 0.08794747170809551\n",
      "Beta Estimate for STATE_CC_COST : -0.0576754804498375\n",
      "Beta Estimate for STATE_MEDIAN_WAGE : 0.05025115445375945\n"
     ]
    }
   ],
   "source": [
    "for i, x in enumerate(est_cols):\n",
    "    print(\"Beta Estimate for {} :\".format(x), results4.x[i])"
   ]
  },
  {
   "cell_type": "code",
   "execution_count": 131,
   "metadata": {},
   "outputs": [
    {
     "name": "stdout",
     "output_type": "stream",
     "text": [
      "error for intercept:  0.03221000880027244\n",
      "error for k_under2:  0.05068136340882821\n"
     ]
    },
    {
     "data": {
      "text/plain": [
       "{'intercept': 0.03221000880027244, 'k_under2': 0.05068136340882821}"
      ]
     },
     "execution_count": 131,
     "metadata": {},
     "output_type": "execute_result"
    }
   ],
   "source": [
    "get_st_error(['intercept', 'k_under2'], variance_covariance_mat)"
   ]
  },
  {
   "cell_type": "code",
   "execution_count": 132,
   "metadata": {},
   "outputs": [
    {
     "data": {
      "text/plain": [
       "Index(['Unnamed: 0', 'ssuid', 'monthly_childcare_expenditure', 'k_under2',\n",
       "       'k_3to5', 'k_6to10', 'METRO', 'reg_ratio', 'criminal_records',\n",
       "       'daycare_regulations', 'monthly_job_hrs', 'monthly_wage',\n",
       "       'monthly_earned_income', 'monthly_unearned_income', 'education', 'age',\n",
       "       'southern', 'log_expenditure', 'H', 'F', 'd1', 'd2', 'd3', 'intercept',\n",
       "       'd4'],\n",
       "      dtype='object')"
      ]
     },
     "execution_count": 132,
     "metadata": {},
     "output_type": "execute_result"
    }
   ],
   "source": []
  },
  {
   "cell_type": "code",
   "execution_count": 134,
   "metadata": {},
   "outputs": [
    {
     "data": {
      "text/plain": [
       "0          114285765\n",
       "1          114552343\n",
       "2          114552369\n",
       "3          418037420\n",
       "4          418086894\n",
       "5          418114194\n",
       "6          418114602\n",
       "7          418172676\n",
       "8          418185142\n",
       "9          418185162\n",
       "10         418199950\n",
       "11         418209291\n",
       "12         418209316\n",
       "13         418209852\n",
       "14         418215316\n",
       "15         418215449\n",
       "16         418276060\n",
       "17         418294283\n",
       "18         418303449\n",
       "19         418342067\n",
       "20         418359831\n",
       "21         418406167\n",
       "22         418406566\n",
       "23         418406660\n",
       "24         418408197\n",
       "25         418408831\n",
       "26         418415746\n",
       "27         418472070\n",
       "28         418472765\n",
       "29         418500162\n",
       "            ...     \n",
       "5878    881925098510\n",
       "5879    881925098688\n",
       "5880    881925342246\n",
       "5881    881925342688\n",
       "5882    881925609510\n",
       "5883    881995023477\n",
       "5884    881995023502\n",
       "5885    881995034502\n",
       "5886    881995034622\n",
       "5887    881995068098\n",
       "5888    881995068402\n",
       "5889    881995092365\n",
       "5890    881995092964\n",
       "5891    881995138167\n",
       "5892    881995204596\n",
       "5893    881995209622\n",
       "5894    881995209788\n",
       "5895    881995209828\n",
       "5896    881995276277\n",
       "5897    881995276651\n",
       "5898    881995285988\n",
       "5899    881995359365\n",
       "5900    881995359638\n",
       "5901    881995408277\n",
       "5902    881995418759\n",
       "5903    881995828027\n",
       "5904    881995860778\n",
       "5905    881995932477\n",
       "5906    881995932828\n",
       "5907    881995995366\n",
       "Name: ssuid, Length: 5908, dtype: int64"
      ]
     },
     "execution_count": 134,
     "metadata": {},
     "output_type": "execute_result"
    }
   ],
   "source": []
  },
  {
   "cell_type": "markdown",
   "metadata": {},
   "source": [
    "# Visualizing Underlying Data:"
   ]
  },
  {
   "cell_type": "code",
   "execution_count": 155,
   "metadata": {},
   "outputs": [
    {
     "data": {
      "text/plain": [
       "<matplotlib.axes._subplots.AxesSubplot at 0x1c22637278>"
      ]
     },
     "execution_count": 155,
     "metadata": {},
     "output_type": "execute_result"
    },
    {
     "data": {
      "image/png": "[encoded data removed]",
      "text/plain": [
       "<Figure size 432x288 with 1 Axes>"
      ]
     },
     "metadata": {
      "needs_background": "light"
     },
     "output_type": "display_data"
    }
   ],
   "source": [
    "sns.scatterplot(x=df['monthly_job_hrs'], y=df['monthly_wage'])"
   ]
  },
  {
   "cell_type": "code",
   "execution_count": 156,
   "metadata": {},
   "outputs": [
    {
     "data": {
      "text/plain": [
       "<matplotlib.axes._subplots.AxesSubplot at 0x1c23d12438>"
      ]
     },
     "execution_count": 156,
     "metadata": {},
     "output_type": "execute_result"
    },
    {
     "data": {
      "image/png": "[encoded data removed]",
      "text/plain": [
       "<Figure size 432x288 with 1 Axes>"
      ]
     },
     "metadata": {
      "needs_background": "light"
     },
     "output_type": "display_data"
    }
   ],
   "source": [
    "sns.distplot(df['k_under2'])"
   ]
  },
  {
   "cell_type": "code",
   "execution_count": 166,
   "metadata": {},
   "outputs": [
    {
     "data": {
      "text/plain": [
       "Index(['Unnamed: 0', 'ssuid', 'monthly_childcare_expenditure', 'k_under2',\n",
       "       'k_3to5', 'k_6to10', 'METRO', 'reg_ratio', 'criminal_records',\n",
       "       'daycare_regulations', 'monthly_job_hrs', 'monthly_wage',\n",
       "       'monthly_earned_income', 'monthly_unearned_income', 'education', 'age',\n",
       "       'southern', 'State_number', 'log_expenditure', 'H', 'F', 'intercept'],\n",
       "      dtype='object')"
      ]
     },
     "execution_count": 166,
     "metadata": {},
     "output_type": "execute_result"
    }
   ],
   "source": [
    "df.columns"
   ]
  },
  {
   "cell_type": "code",
   "execution_count": null,
   "metadata": {},
   "outputs": [],
   "source": []
  }
 ],
 "metadata": {
  "kernelspec": {
   "display_name": "Python 3",
   "language": "python",
   "name": "python3"
  },
  "language_info": {
   "codemirror_mode": {
    "name": "ipython",
    "version": 3
   },
   "file_extension": ".py",
   "mimetype": "text/x-python",
   "name": "python",
   "nbconvert_exporter": "python",
   "pygments_lexer": "ipython3",
   "version": "3.7.3"
  }
 },
 "nbformat": 4,
 "nbformat_minor": 2
}
