{
 "cells": [
  {
   "cell_type": "markdown",
   "metadata": {},
   "source": [
    "# The Structural Relationship of Childcare Expenses and Workforce Attachment\n",
    "## Jesús Pacheco & Dave Foote"
   ]
  },
  {
   "cell_type": "code",
   "execution_count": 1,
   "metadata": {},
   "outputs": [],
   "source": [
    "#imports\n",
    "import numpy as np\n",
    "import pandas as pd"
   ]
  },
  {
   "cell_type": "code",
   "execution_count": 2,
   "metadata": {},
   "outputs": [],
   "source": [
    "#split function for data:\n",
    "def splitter(df, y_col, upper, lower):\n",
    "    '''\n",
    "    seperate censored and noncensored portions of data, assuming both ends of\n",
    "    data are censored\n",
    "    '''\n",
    "    left = pd.DataFrame()\n",
    "    uncensored = pd.DataFrame()\n",
    "    right = pd.DataFrame()\n",
    "    \n",
    "    left = df[df[y_col] == lower]\n",
    "    uncensored = df[(df[y_col] != lower) & (df[y_col] != upper)]\n",
    "    right = df[df[y_col] == upper]\n",
    "    \n",
    "    return left, uncensored, right"
   ]
  },
  {
   "cell_type": "code",
   "execution_count": null,
   "metadata": {},
   "outputs": [],
   "source": []
  }
 ],
 "metadata": {
  "kernelspec": {
   "display_name": "Python 3",
   "language": "python",
   "name": "python3"
  },
  "language_info": {
   "codemirror_mode": {
    "name": "ipython",
    "version": 3
   },
   "file_extension": ".py",
   "mimetype": "text/x-python",
   "name": "python",
   "nbconvert_exporter": "python",
   "pygments_lexer": "ipython3",
   "version": "3.7.3"
  }
 },
 "nbformat": 4,
 "nbformat_minor": 2
}
